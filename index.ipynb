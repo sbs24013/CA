{
 "cells": [
  {
   "cell_type": "markdown",
   "metadata": {},
   "source": [
    "## Imports"
   ]
  },
  {
   "cell_type": "code",
   "execution_count": 26,
   "metadata": {},
   "outputs": [],
   "source": [
    "import os\n",
    "import pandas as pd"
   ]
  },
  {
   "cell_type": "markdown",
   "metadata": {},
   "source": [
    "## Constants & Functions"
   ]
  },
  {
   "cell_type": "code",
   "execution_count": 27,
   "metadata": {},
   "outputs": [],
   "source": [
    "\n",
    "def get_datasets_shape(datasets_dir = './datasets', min_row = 0):\n",
    "  # Loop through all files in the directory\n",
    "  for filename in os.listdir(datasets_dir):\n",
    "    if filename.endswith('.csv'):  # Check if the file is a CSV file\n",
    "        filepath = os.path.join(datasets_dir, filename)\n",
    "        dataset = pd.read_csv(filepath)\n",
    "        if dataset.shape[0] > min_row:\n",
    "          print(filepath, dataset.shape) \n",
    "\n",
    "# 용도: datasets 디렉터리에 있는 csv 파일을 읽어 경로와, 파일명, 사이즈를 출력한다\n",
    "# param1: datasets_dir: 데이터셋 디렉터리 경로\n",
    "# param2: min_row: 최소 행 갯수"
   ]
  },
  {
   "cell_type": "code",
   "execution_count": 28,
   "metadata": {},
   "outputs": [
    {
     "name": "stdout",
     "output_type": "stream",
     "text": [
      "모든 CSV 검사\n",
      "./datasets\\Accommodation.csv (2337, 9)\n",
      "./datasets\\Activities.csv (6100, 9)\n",
      "./datasets\\TMA09 - Overseas Trips (incl. Expenditure) to Ireland.csv (297, 8)\n",
      "./datasets\\TMA20 - Overseas Trips to Ireland by Non-Residents.csv (1080, 10)\n",
      "./datasets\\TMQ03 - Expenditure of Visitors to and from Ireland.csv (192, 8)\n",
      "./datasets\\TMQ12 - Overseas Trips to Ireland.csv (560, 8)\n",
      "행이 최소 1000개가 되는 CSV 검사\n",
      "./datasets\\Accommodation.csv (2337, 9)\n",
      "./datasets\\Activities.csv (6100, 9)\n",
      "./datasets\\TMA20 - Overseas Trips to Ireland by Non-Residents.csv (1080, 10)\n"
     ]
    }
   ],
   "source": [
    "print(\"모든 CSV 검사\")\n",
    "get_datasets_shape()\n",
    "\n",
    "print(\"행이 최소 1000개가 되는 CSV 검사\")\n",
    "get_datasets_shape(min_row = 1000)"
   ]
  }
 ],
 "metadata": {
  "kernelspec": {
   "display_name": "base",
   "language": "python",
   "name": "python3"
  },
  "language_info": {
   "codemirror_mode": {
    "name": "ipython",
    "version": 3
   },
   "file_extension": ".py",
   "mimetype": "text/x-python",
   "name": "python",
   "nbconvert_exporter": "python",
   "pygments_lexer": "ipython3",
   "version": "3.11.5"
  }
 },
 "nbformat": 4,
 "nbformat_minor": 2
}
